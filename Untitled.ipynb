{
 "cells": [
  {
   "cell_type": "code",
   "execution_count": 1,
   "metadata": {},
   "outputs": [],
   "source": [
    "import tensorflow as tf\n",
    "from keras.preprocessing.image import ImageDataGenerator #mandatory for image processing "
   ]
  },
  {
   "cell_type": "code",
   "execution_count": 2,
   "metadata": {},
   "outputs": [
    {
     "name": "stdout",
     "output_type": "stream",
     "text": [
      "Found 8000 images belonging to 2 classes.\n",
      "Found 2000 images belonging to 2 classes.\n"
     ]
    }
   ],
   "source": [
    "#Data preprocessing\n",
    "#Change the basic attributes of images by applying transformations and its called image augmentation\n",
    "train_datagen = ImageDataGenerator(\n",
    "    rescale=1/.255, shear_range=0.2, zoom_range=0.2, horizontal_flip=True\n",
    ")\n",
    "training_set = train_datagen.flow_from_directory(\n",
    "    'dataset/training_set', target_size=(64, 64), batch_size=32, class_mode='binary'\n",
    ")\n",
    "test_datagen = ImageDataGenerator(rescale=1/.255)\n",
    "test_set = test_datagen.flow_from_directory(\n",
    "    'dataset/test_set', target_size=(64, 64), batch_size=32, class_mode='binary'\n",
    ")\n"
   ]
  },
  {
   "cell_type": "code",
   "execution_count": 3,
   "metadata": {},
   "outputs": [],
   "source": [
    "#Building the CNN\n",
    "cnn = tf.keras.models.Sequential()\n",
    "#Convolutional layer\n",
    "cnn.add(tf.keras.layers.Conv2D(filters=32, kernel_size=3, activation='relu',input_shape=[64,64,3]))\n",
    "#Max Pooling\n",
    "cnn.add(tf.keras.layers.MaxPool2D(pool_size=2, strides=2))\n",
    "#second set of layers\n",
    "cnn.add(tf.keras.layers.Conv2D(filters=32, kernel_size=3, activation='relu'))\n",
    "cnn.add(tf.keras.layers.MaxPool2D(pool_size=2, strides=2))\n",
    "\n",
    "#Flattening\n",
    "cnn.add(tf.keras.layers.Flatten())\n",
    "\n",
    "#Full connection\n",
    "cnn.add(tf.keras.layers.Dense(units=128,activation='relu'))"
   ]
  },
  {
   "cell_type": "code",
   "execution_count": 4,
   "metadata": {},
   "outputs": [
    {
     "name": "stdout",
     "output_type": "stream",
     "text": [
      "Epoch 1/25\n",
      "250/250 [==============================] - 102s 407ms/step - loss: 8.2330 - accuracy: 0.5526 - val_loss: 0.7178 - val_accuracy: 0.5580\n",
      "Epoch 2/25\n",
      "250/250 [==============================] - 101s 405ms/step - loss: 0.6986 - accuracy: 0.5455 - val_loss: 0.7239 - val_accuracy: 0.5670\n",
      "Epoch 3/25\n",
      "250/250 [==============================] - 101s 405ms/step - loss: 0.6929 - accuracy: 0.5524 - val_loss: 0.7246 - val_accuracy: 0.5525\n",
      "Epoch 4/25\n",
      "250/250 [==============================] - 104s 418ms/step - loss: 0.6817 - accuracy: 0.5691 - val_loss: 0.6999 - val_accuracy: 0.5520\n",
      "Epoch 5/25\n",
      "250/250 [==============================] - 94s 376ms/step - loss: 0.6822 - accuracy: 0.5534 - val_loss: 0.6929 - val_accuracy: 0.5450\n",
      "Epoch 6/25\n",
      "250/250 [==============================] - 96s 386ms/step - loss: 0.6849 - accuracy: 0.5579 - val_loss: 0.7009 - val_accuracy: 0.5695\n",
      "Epoch 7/25\n",
      "250/250 [==============================] - 96s 386ms/step - loss: 0.6796 - accuracy: 0.5715 - val_loss: 0.6896 - val_accuracy: 0.5575\n",
      "Epoch 8/25\n",
      "250/250 [==============================] - 96s 385ms/step - loss: 0.6793 - accuracy: 0.5794 - val_loss: 0.7001 - val_accuracy: 0.5505\n",
      "Epoch 9/25\n",
      "250/250 [==============================] - 95s 379ms/step - loss: 0.6726 - accuracy: 0.5824 - val_loss: 0.7137 - val_accuracy: 0.5670\n",
      "Epoch 10/25\n",
      "250/250 [==============================] - 93s 374ms/step - loss: 0.6722 - accuracy: 0.5803 - val_loss: 0.6973 - val_accuracy: 0.5615\n",
      "Epoch 11/25\n",
      "250/250 [==============================] - 95s 378ms/step - loss: 0.6724 - accuracy: 0.5650 - val_loss: 0.6959 - val_accuracy: 0.5630\n",
      "Epoch 12/25\n",
      "250/250 [==============================] - 94s 375ms/step - loss: 0.6642 - accuracy: 0.5901 - val_loss: 0.6924 - val_accuracy: 0.5795\n",
      "Epoch 13/25\n",
      "250/250 [==============================] - 94s 376ms/step - loss: 0.6640 - accuracy: 0.6003 - val_loss: 0.7005 - val_accuracy: 0.5845\n",
      "Epoch 14/25\n",
      "250/250 [==============================] - 95s 379ms/step - loss: 0.6531 - accuracy: 0.6208 - val_loss: 0.7026 - val_accuracy: 0.5905\n",
      "Epoch 15/25\n",
      "250/250 [==============================] - 81s 324ms/step - loss: 0.6544 - accuracy: 0.6135 - val_loss: 0.6624 - val_accuracy: 0.6090\n",
      "Epoch 16/25\n",
      "250/250 [==============================] - 76s 304ms/step - loss: 0.6587 - accuracy: 0.6110 - val_loss: 0.8198 - val_accuracy: 0.5470\n",
      "Epoch 17/25\n",
      "250/250 [==============================] - 77s 307ms/step - loss: 0.6421 - accuracy: 0.6355 - val_loss: 0.6835 - val_accuracy: 0.6215\n",
      "Epoch 18/25\n",
      "250/250 [==============================] - 76s 303ms/step - loss: 0.6416 - accuracy: 0.6264 - val_loss: 0.6587 - val_accuracy: 0.6190\n",
      "Epoch 19/25\n",
      "250/250 [==============================] - 75s 298ms/step - loss: 0.6289 - accuracy: 0.6400 - val_loss: 0.7016 - val_accuracy: 0.5840\n",
      "Epoch 20/25\n",
      "250/250 [==============================] - 76s 304ms/step - loss: 0.6567 - accuracy: 0.6087 - val_loss: 0.6731 - val_accuracy: 0.6040\n",
      "Epoch 21/25\n",
      "250/250 [==============================] - 75s 302ms/step - loss: 0.6335 - accuracy: 0.6441 - val_loss: 0.7011 - val_accuracy: 0.6210\n",
      "Epoch 22/25\n",
      "250/250 [==============================] - 76s 306ms/step - loss: 0.6194 - accuracy: 0.6559 - val_loss: 0.6623 - val_accuracy: 0.6200\n",
      "Epoch 23/25\n",
      "250/250 [==============================] - 78s 314ms/step - loss: 0.6099 - accuracy: 0.6643 - val_loss: 0.6495 - val_accuracy: 0.6555\n",
      "Epoch 24/25\n",
      "250/250 [==============================] - 78s 310ms/step - loss: 0.6078 - accuracy: 0.6676 - val_loss: 0.6764 - val_accuracy: 0.6465\n",
      "Epoch 25/25\n",
      "250/250 [==============================] - 79s 316ms/step - loss: 0.6014 - accuracy: 0.6771 - val_loss: 0.6771 - val_accuracy: 0.5705\n"
     ]
    },
    {
     "data": {
      "text/plain": [
       "<tensorflow.python.keras.callbacks.History at 0x7f1ff4799640>"
      ]
     },
     "execution_count": 4,
     "metadata": {},
     "output_type": "execute_result"
    }
   ],
   "source": [
    "#output layer\n",
    "cnn.add(tf.keras.layers.Dense(units=1,activation='sigmoid'))\n",
    "\n",
    "#Training the CNN\n",
    "cnn.compile(optimizer='adam',loss='binary_crossentropy',metrics=['accuracy'])\n",
    "cnn.fit(x = training_set, validation_data=test_set, epochs=25)"
   ]
  },
  {
   "cell_type": "code",
   "execution_count": 5,
   "metadata": {},
   "outputs": [
    {
     "name": "stdout",
     "output_type": "stream",
     "text": [
      "{'cats': 0, 'dogs': 1}\n",
      "Cat\n"
     ]
    }
   ],
   "source": [
    "import numpy as np\n",
    "from keras.preprocessing import image\n",
    "test_image = image.load_img('dataset/single_prediction/cat_or_dog_1.jpg', target_size=(64,64))\n",
    "test_image = image.img_to_array(test_image)\n",
    "test_image = np.expand_dims(test_image, axis=0)\n",
    "result = cnn.predict(test_image)\n",
    "print(training_set.class_indices)\n",
    "if result[0][0] == 1:\n",
    "    prediction = 'Dog'\n",
    "else :\n",
    "    prediction = 'Cat'\n",
    "    \n",
    "print(prediction)"
   ]
  },
  {
   "cell_type": "code",
   "execution_count": 6,
   "metadata": {},
   "outputs": [
    {
     "name": "stdout",
     "output_type": "stream",
     "text": [
      "{'cats': 0, 'dogs': 1}\n",
      "Cat\n"
     ]
    }
   ],
   "source": [
    "import numpy as np\n",
    "from keras.preprocessing import image\n",
    "test_image = image.load_img('dataset/single_prediction/cat_or_dog_2.jpg', target_size=(64,64))\n",
    "test_image = image.img_to_array(test_image)\n",
    "test_image = np.expand_dims(test_image, axis=0)\n",
    "result = cnn.predict(test_image)\n",
    "print(training_set.class_indices)\n",
    "if result[0][0] == 1:\n",
    "    prediction = 'Dog'\n",
    "else :\n",
    "    prediction = 'Cat'\n",
    "    \n",
    "print(prediction)"
   ]
  },
  {
   "cell_type": "code",
   "execution_count": null,
   "metadata": {},
   "outputs": [],
   "source": []
  }
 ],
 "metadata": {
  "kernelspec": {
   "display_name": "Python 3",
   "language": "python",
   "name": "python3"
  },
  "language_info": {
   "codemirror_mode": {
    "name": "ipython",
    "version": 3
   },
   "file_extension": ".py",
   "mimetype": "text/x-python",
   "name": "python",
   "nbconvert_exporter": "python",
   "pygments_lexer": "ipython3",
   "version": "3.8.5"
  }
 },
 "nbformat": 4,
 "nbformat_minor": 4
}
